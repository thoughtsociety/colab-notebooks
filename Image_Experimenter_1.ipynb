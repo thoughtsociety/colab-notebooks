{
  "nbformat": 4,
  "nbformat_minor": 0,
  "metadata": {
    "colab": {
      "name": "Image Experimenter #1",
      "provenance": [],
      "collapsed_sections": [],
      "toc_visible": true,
      "include_colab_link": true
    },
    "kernelspec": {
      "name": "python3",
      "display_name": "Python 3"
    },
    "accelerator": "GPU"
  },
  "cells": [
    {
      "cell_type": "markdown",
      "metadata": {
        "id": "view-in-github",
        "colab_type": "text"
      },
      "source": [
        "<a href=\"https://colab.research.google.com/github/thoughtsociety/colab-notebooks/blob/master/Image_Experimenter_1.ipynb\" target=\"_parent\"><img src=\"https://colab.research.google.com/assets/colab-badge.svg\" alt=\"Open In Colab\"/></a>"
      ]
    },
    {
      "cell_type": "markdown",
      "metadata": {
        "id": "6EmeHWsdYac9",
        "colab_type": "text"
      },
      "source": [
        "# This will be my image experimenter notebook\n",
        "### Hopefully, I can learn how to wrangle images well enough to make use of some of the pre-trained models floating around the ML space"
      ]
    },
    {
      "cell_type": "markdown",
      "metadata": {
        "id": "pni1HyGeYSu-",
        "colab_type": "text"
      },
      "source": [
        "### Mount GDrive for assets\n",
        "\n",
        "Must be run every time the notebook is initialized"
      ]
    },
    {
      "cell_type": "code",
      "metadata": {
        "id": "2bmptOd8TTOY",
        "colab_type": "code",
        "outputId": "97669850-dc98-49bd-a359-9523f58f9c35",
        "colab": {
          "base_uri": "https://localhost:8080/",
          "height": 127
        }
      },
      "source": [
        "from google.colab import drive\n",
        "drive.mount('/content/drive')"
      ],
      "execution_count": 1,
      "outputs": [
        {
          "output_type": "stream",
          "text": [
            "Go to this URL in a browser: https://accounts.google.com/o/oauth2/auth?client_id=947318989803-6bn6qk8qdgf4n4g3pfee6491hc0brc4i.apps.googleusercontent.com&redirect_uri=urn%3Aietf%3Awg%3Aoauth%3A2.0%3Aoob&scope=email%20https%3A%2F%2Fwww.googleapis.com%2Fauth%2Fdocs.test%20https%3A%2F%2Fwww.googleapis.com%2Fauth%2Fdrive%20https%3A%2F%2Fwww.googleapis.com%2Fauth%2Fdrive.photos.readonly%20https%3A%2F%2Fwww.googleapis.com%2Fauth%2Fpeopleapi.readonly&response_type=code\n",
            "\n",
            "Enter your authorization code:\n",
            "··········\n",
            "Mounted at /content/drive\n"
          ],
          "name": "stdout"
        }
      ]
    },
    {
      "cell_type": "code",
      "metadata": {
        "id": "JmK3qCpp8E_S",
        "colab_type": "code",
        "outputId": "75d08a5f-a52d-4990-90cd-12f03d480f96",
        "colab": {
          "base_uri": "https://localhost:8080/",
          "height": 100
        }
      },
      "source": [
        "from PIL import Image\n",
        "from matplotlib import pyplot as plt\n",
        "import numpy as np\n",
        "# import face_recognition\n",
        "import keras\n",
        "from keras.models import load_model\n",
        "import cv2\n",
        "import warnings\n",
        "import time\n",
        "from google.colab.patches import cv2_imshow # fixes incompatibility of cv2 and jupyter\n",
        "warnings.filterwarnings('ignore')\n",
        "face_path = \"/content/\"\n",
        "model_path = \"/content/drive/My Drive/Colab Notebooks/models/\"\n",
        "gdrive_path = \"/content/drive/My Drive/Colab Notebooks/\"\n"
      ],
      "execution_count": 2,
      "outputs": [
        {
          "output_type": "stream",
          "text": [
            "Using TensorFlow backend.\n"
          ],
          "name": "stderr"
        },
        {
          "output_type": "display_data",
          "data": {
            "text/html": [
              "<p style=\"color: red;\">\n",
              "The default version of TensorFlow in Colab will soon switch to TensorFlow 2.x.<br>\n",
              "We recommend you <a href=\"https://www.tensorflow.org/guide/migrate\" target=\"_blank\">upgrade</a> now \n",
              "or ensure your notebook will continue to use TensorFlow 1.x via the <code>%tensorflow_version 1.x</code> magic:\n",
              "<a href=\"https://colab.research.google.com/notebooks/tensorflow_version.ipynb\" target=\"_blank\">more info</a>.</p>\n"
            ],
            "text/plain": [
              "<IPython.core.display.HTML object>"
            ]
          },
          "metadata": {
            "tags": []
          }
        }
      ]
    },
    {
      "cell_type": "code",
      "metadata": {
        "id": "lx9-ylsfVMY4",
        "colab_type": "code",
        "colab": {}
      },
      "source": [
        "!unzip /content/drive/'My Drive'/faces/emotional-faces.zip"
      ],
      "execution_count": 0,
      "outputs": []
    },
    {
      "cell_type": "code",
      "metadata": {
        "id": "555zZTsm8O0-",
        "colab_type": "code",
        "colab": {}
      },
      "source": [
        "# This is where the emotion equates to a predicted class value\n",
        "emotion_dict= {'Angry': 0, 'Sad': 5, 'Neutral': 4, 'Disgust': 1, 'Surprise': 6, 'Fear': 2, 'Happy': 3}"
      ],
      "execution_count": 0,
      "outputs": []
    },
    {
      "cell_type": "code",
      "metadata": {
        "id": "g2AAsaUB-siR",
        "colab_type": "code",
        "colab": {}
      },
      "source": [
        "# Load in the face emotional model provided by Priya Dwivedi http://www.deeplearninganalytics.org/\n",
        "# The model was trained on fer2013 labeled face emotion image data set\n",
        "model = load_model(model_path+\"model_v6_23.hdf5\")"
      ],
      "execution_count": 0,
      "outputs": []
    },
    {
      "cell_type": "code",
      "metadata": {
        "id": "OwK9l-td9lE0",
        "colab_type": "code",
        "colab": {}
      },
      "source": [
        "# '125.jpg','140.jpg','16.jpg','142.jpg','4.jpg',\n",
        "#img_list = ['disgustman2.jpeg'] #,'125.jpg','140.jpg','16.jpg','142.jpg','4.jpg']\n",
        "img_list = ['39.jpg','happy.jpg','surprise-guy.jpg','125.jpg','140.jpg','16.jpg','142.jpg','4.jpg','disgust-man-2.jpeg','happy-old-woman-2.jpg','happy-girl.jpg','angry-man-1.jpg','1950s-sad-boy.jpg','fearful-woman-1.jpg']\n",
        "img_list_2 = ['happy.jpg','sad2.jpg','surprise.jpg','fear.jpg']\n",
        "\n",
        "#detect_emotions_from_images(img_list)"
      ],
      "execution_count": 0,
      "outputs": []
    },
    {
      "cell_type": "markdown",
      "metadata": {
        "id": "7VKV_2P56neT",
        "colab_type": "text"
      },
      "source": [
        "## Emotion Detection Function\n",
        "\n",
        "Function to do the emotion detection in one cell\n",
        "\n",
        "**Pass in the image**\n",
        "\n",
        "**Resize image : This model prefers 48x48 pixel grayscale images**"
      ]
    },
    {
      "cell_type": "code",
      "metadata": {
        "id": "1zqHZZc69lex",
        "colab_type": "code",
        "colab": {}
      },
      "source": [
        "def emotion_detection(image):\n",
        "  #resized_image = cv2.resize(image, None, (48,48),interpolation=cv2.INTER_AREA)\n",
        "  resized_image = cv2.resize(image, (48,48))\n",
        "  #cv2_imshow(resized_image)\n",
        "# Reshape for 4D convolution input to model\n",
        "  reshaped_resized_image = np.reshape(resized_image,[1,48,48,1])\n",
        "# Do the prediction based on the emotional model\n",
        "  predicted_class = np.argmax(model.predict(reshaped_resized_image))\n",
        "# Get the emotion string from the dictionary with predicted_class as index\n",
        "  label_map = dict((v,k) for k,v in emotion_dict.items()) \n",
        "  predicted_label = label_map[predicted_class]\n",
        "# Return the emotion string\n",
        "  return(predicted_label)"
      ],
      "execution_count": 0,
      "outputs": []
    },
    {
      "cell_type": "code",
      "metadata": {
        "id": "lQAUVmhRBBsh",
        "colab_type": "code",
        "colab": {}
      },
      "source": [
        "# Function to build a list of images to submit to emotion_detection() and show the image with the emotion\n",
        "def detect_emotions_from_images(image_list,sf):\n",
        "  for i in image_list:\n",
        "    cur_image = i\n",
        "    image = cv2.imread(cur_image,cv2.IMREAD_GRAYSCALE)\n",
        "    emotion = emotion_detection(image)\n",
        "    print(cur_image+\" : \",emotion,\"\\n\")\n",
        "    image = cv2.resize(image, None, fx=sf, fy=sf,interpolation=cv2.INTER_AREA)\n",
        "   \n",
        "    cv2_imshow(image)\n",
        "    print(\"\\n\")"
      ],
      "execution_count": 0,
      "outputs": []
    },
    {
      "cell_type": "code",
      "metadata": {
        "id": "ARd2xK8Zf3sx",
        "colab_type": "code",
        "colab": {}
      },
      "source": [
        ""
      ],
      "execution_count": 0,
      "outputs": []
    },
    {
      "cell_type": "code",
      "metadata": {
        "id": "PX9ZqloEaDC2",
        "colab_type": "code",
        "colab": {
          "base_uri": "https://localhost:8080/",
          "height": 681
        },
        "outputId": "d1dce962-8343-4f02-f042-00acb716ddc1"
      },
      "source": [
        "detect_emotions_from_images(img_list_2,0.5)"
      ],
      "execution_count": 63,
      "outputs": [
        {
          "output_type": "stream",
          "text": [
            "happy.jpg :  Happy \n",
            "\n"
          ],
          "name": "stdout"
        },
        {
          "output_type": "display_data",
          "data": {
            "image/png": "[encoded data removed]",
            "text/plain": [
              "<PIL.Image.Image image mode=L size=56x70 at 0x7F7DD7FEACC0>"
            ]
          },
          "metadata": {
            "tags": []
          }
        },
        {
          "output_type": "stream",
          "text": [
            "\n",
            "\n",
            "sad2.jpg :  Fear \n",
            "\n"
          ],
          "name": "stdout"
        },
        {
          "output_type": "display_data",
          "data": {
            "image/png": "[encoded data removed]",
            "text/plain": [
              "<PIL.Image.Image image mode=L size=90x100 at 0x7F7DD7FEAFD0>"
            ]
          },
          "metadata": {
            "tags": []
          }
        },
        {
          "output_type": "stream",
          "text": [
            "\n",
            "\n",
            "surprise.jpg :  Surprise \n",
            "\n"
          ],
          "name": "stdout"
        },
        {
          "output_type": "display_data",
          "data": {
            "image/png": "[encoded data removed]",
            "text/plain": [
              "<PIL.Image.Image image mode=L size=102x132 at 0x7F7DD7FEAE80>"
            ]
          },
          "metadata": {
            "tags": []
          }
        },
        {
          "output_type": "stream",
          "text": [
            "\n",
            "\n",
            "fear.jpg :  Surprise \n",
            "\n"
          ],
          "name": "stdout"
        },
        {
          "output_type": "display_data",
          "data": {
            "image/png": "[encoded data removed]",
            "text/plain": [
              "<PIL.Image.Image image mode=L size=57x74 at 0x7F7DD7FEA2E8>"
            ]
          },
          "metadata": {
            "tags": []
          }
        },
        {
          "output_type": "stream",
          "text": [
            "\n",
            "\n"
          ],
          "name": "stdout"
        }
      ]
    },
    {
      "cell_type": "code",
      "metadata": {
        "id": "E_7c_wVUrspH",
        "colab_type": "code",
        "colab": {
          "base_uri": "https://localhost:8080/",
          "height": 35
        },
        "outputId": "a06d3165-2e10-475c-a985-548e1d82eeb3"
      },
      "source": [
        "img_list"
      ],
      "execution_count": 98,
      "outputs": [
        {
          "output_type": "execute_result",
          "data": {
            "text/plain": [
              "['disgustman2.jpg']"
            ]
          },
          "metadata": {
            "tags": []
          },
          "execution_count": 98
        }
      ]
    },
    {
      "cell_type": "code",
      "metadata": {
        "id": "la_9FS-drvz-",
        "colab_type": "code",
        "colab": {}
      },
      "source": [
        ""
      ],
      "execution_count": 0,
      "outputs": []
    },
    {
      "cell_type": "code",
      "metadata": {
        "id": "ad8iMiJ1rYf8",
        "colab_type": "code",
        "colab": {
          "base_uri": "https://localhost:8080/",
          "height": 65
        },
        "outputId": "bb0ffe18-441c-4801-81ed-d4d6d205b76e"
      },
      "source": [
        "img1 = cv2.imread(img_list[0],cv2.IMREAD_GRAYSCALE)\n",
        "#plt.imshow(img1)\n",
        "cv2_imshow(img1)"
      ],
      "execution_count": 51,
      "outputs": [
        {
          "output_type": "display_data",
          "data": {
            "image/png": "[encoded data removed]",
            "text/plain": [
              "<PIL.Image.Image image mode=L size=48x48 at 0x7F7DDA125780>"
            ]
          },
          "metadata": {
            "tags": []
          }
        }
      ]
    },
    {
      "cell_type": "code",
      "metadata": {
        "id": "inaUhpxrpLdd",
        "colab_type": "code",
        "colab": {
          "base_uri": "https://localhost:8080/",
          "height": 267
        },
        "outputId": "0ee9c495-f398-455e-f1a0-e3d0084ee716"
      },
      "source": [
        "image = cv2.imread(\"angryman1.jpg\",cv2.IMREAD_GRAYSCALE)\n",
        "resized_image = cv2.resize(image, (250,250),interpolation=cv2.INTER_AREA)\n",
        "cv2_imshow(resized_image)"
      ],
      "execution_count": 95,
      "outputs": [
        {
          "output_type": "display_data",
          "data": {
            "image/png": "[encoded data removed]",
            "text/plain": [
              "<PIL.Image.Image image mode=L size=250x250 at 0x7F5A8348FD68>"
            ]
          },
          "metadata": {
            "tags": []
          }
        }
      ]
    },
    {
      "cell_type": "code",
      "metadata": {
        "id": "5CvvsOiPSRd1",
        "colab_type": "code",
        "colab": {}
      },
      "source": [
        "test_img = cv2.imread(\"angryman1.jpg\")\n",
        "cv2_imshow(test_img)"
      ],
      "execution_count": 0,
      "outputs": []
    },
    {
      "cell_type": "code",
      "metadata": {
        "id": "zXcatrFfgdOB",
        "colab_type": "code",
        "colab": {}
      },
      "source": [
        ""
      ],
      "execution_count": 0,
      "outputs": []
    }
  ]
}